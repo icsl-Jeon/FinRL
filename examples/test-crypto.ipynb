{
 "cells": [
  {
   "cell_type": "code",
   "execution_count": 1,
   "outputs": [
    {
     "name": "stdout",
     "output_type": "stream",
     "text": [
      "binance successfully connected\n",
      "Download complete! Dataset saved to ./data/dataset.csv. \n",
      "Shape of DataFrame: (41494, 8)\n"
     ]
    }
   ],
   "source": [
    "from meta.data_processor import DataProcessor\n",
    "\n",
    "ticker_list = ['ETHUSDT', 'BTCUSDT']\n",
    "\n",
    "TIME_INTERVAL = '1h'\n",
    "\n",
    "TRAIN_START_DATE = '2015-01-01'\n",
    "TRAIN_END_DATE = '2019-08-01'\n",
    "TRADE_START_DATE = '2019-08-01'\n",
    "TRADE_END_DATE = '2020-01-03'\n",
    "\n",
    "if_vix = False\n",
    "\n",
    "p = DataProcessor(data_source='binance', start_date=TRAIN_START_DATE,\n",
    "                  end_date=TRADE_END_DATE, time_interval=TIME_INTERVAL)\n",
    "p.download_data(ticker_list=ticker_list)\n",
    "p.clean_data()\n",
    "df = p.dataframe"
   ],
   "metadata": {
    "collapsed": false
   }
  },
  {
   "cell_type": "code",
   "execution_count": 2,
   "outputs": [
    {
     "data": {
      "text/plain": "                        open     high      low    close       volume  \\\ntime                                                                   \n2020-01-02 19:00:00  7162.18  7180.00  7153.33  7161.83  1446.219984   \n2020-01-02 20:00:00  7161.89  7168.67  7139.03  7139.79   761.156570   \n2020-01-02 21:00:00  7139.73  7163.40  7139.03  7158.29   794.030497   \n2020-01-02 22:00:00  7158.86  7163.35  7107.43  7131.15  1566.280693   \n2020-01-02 23:00:00  7131.18  7157.10  7122.34  7135.59   956.300925   \n\n                     adjusted_close      tic        rsi       macd  \\\ntime                                                                 \n2020-01-02 19:00:00         7161.83  BTCUSDT  44.288677 -19.937711   \n2020-01-02 20:00:00         7139.79  BTCUSDT  39.603234 -20.237987   \n2020-01-02 21:00:00         7158.29  BTCUSDT  44.874947 -18.766830   \n2020-01-02 22:00:00         7131.15  BTCUSDT  39.436672 -19.565361   \n2020-01-02 23:00:00         7135.59  BTCUSDT  40.702719 -19.613836   \n\n                     macd_signal  macd_hist        cci         dx  \ntime                                                               \n2020-01-02 19:00:00   -17.543580  -2.394131  -4.322773  20.017467  \n2020-01-02 20:00:00   -18.082462  -2.155525 -32.074422  27.022707  \n2020-01-02 21:00:00   -18.219335  -0.547494 -11.448699  27.022707  \n2020-01-02 22:00:00   -18.488541  -1.076821 -69.799501  40.400660  \n2020-01-02 23:00:00   -18.713600  -0.900236 -46.120119  40.400660  ",
      "text/html": "<div>\n<style scoped>\n    .dataframe tbody tr th:only-of-type {\n        vertical-align: middle;\n    }\n\n    .dataframe tbody tr th {\n        vertical-align: top;\n    }\n\n    .dataframe thead th {\n        text-align: right;\n    }\n</style>\n<table border=\"1\" class=\"dataframe\">\n  <thead>\n    <tr style=\"text-align: right;\">\n      <th></th>\n      <th>open</th>\n      <th>high</th>\n      <th>low</th>\n      <th>close</th>\n      <th>volume</th>\n      <th>adjusted_close</th>\n      <th>tic</th>\n      <th>rsi</th>\n      <th>macd</th>\n      <th>macd_signal</th>\n      <th>macd_hist</th>\n      <th>cci</th>\n      <th>dx</th>\n    </tr>\n    <tr>\n      <th>time</th>\n      <th></th>\n      <th></th>\n      <th></th>\n      <th></th>\n      <th></th>\n      <th></th>\n      <th></th>\n      <th></th>\n      <th></th>\n      <th></th>\n      <th></th>\n      <th></th>\n      <th></th>\n    </tr>\n  </thead>\n  <tbody>\n    <tr>\n      <th>2020-01-02 19:00:00</th>\n      <td>7162.18</td>\n      <td>7180.00</td>\n      <td>7153.33</td>\n      <td>7161.83</td>\n      <td>1446.219984</td>\n      <td>7161.83</td>\n      <td>BTCUSDT</td>\n      <td>44.288677</td>\n      <td>-19.937711</td>\n      <td>-17.543580</td>\n      <td>-2.394131</td>\n      <td>-4.322773</td>\n      <td>20.017467</td>\n    </tr>\n    <tr>\n      <th>2020-01-02 20:00:00</th>\n      <td>7161.89</td>\n      <td>7168.67</td>\n      <td>7139.03</td>\n      <td>7139.79</td>\n      <td>761.156570</td>\n      <td>7139.79</td>\n      <td>BTCUSDT</td>\n      <td>39.603234</td>\n      <td>-20.237987</td>\n      <td>-18.082462</td>\n      <td>-2.155525</td>\n      <td>-32.074422</td>\n      <td>27.022707</td>\n    </tr>\n    <tr>\n      <th>2020-01-02 21:00:00</th>\n      <td>7139.73</td>\n      <td>7163.40</td>\n      <td>7139.03</td>\n      <td>7158.29</td>\n      <td>794.030497</td>\n      <td>7158.29</td>\n      <td>BTCUSDT</td>\n      <td>44.874947</td>\n      <td>-18.766830</td>\n      <td>-18.219335</td>\n      <td>-0.547494</td>\n      <td>-11.448699</td>\n      <td>27.022707</td>\n    </tr>\n    <tr>\n      <th>2020-01-02 22:00:00</th>\n      <td>7158.86</td>\n      <td>7163.35</td>\n      <td>7107.43</td>\n      <td>7131.15</td>\n      <td>1566.280693</td>\n      <td>7131.15</td>\n      <td>BTCUSDT</td>\n      <td>39.436672</td>\n      <td>-19.565361</td>\n      <td>-18.488541</td>\n      <td>-1.076821</td>\n      <td>-69.799501</td>\n      <td>40.400660</td>\n    </tr>\n    <tr>\n      <th>2020-01-02 23:00:00</th>\n      <td>7131.18</td>\n      <td>7157.10</td>\n      <td>7122.34</td>\n      <td>7135.59</td>\n      <td>956.300925</td>\n      <td>7135.59</td>\n      <td>BTCUSDT</td>\n      <td>40.702719</td>\n      <td>-19.613836</td>\n      <td>-18.713600</td>\n      <td>-0.900236</td>\n      <td>-46.120119</td>\n      <td>40.400660</td>\n    </tr>\n  </tbody>\n</table>\n</div>"
     },
     "execution_count": 2,
     "metadata": {},
     "output_type": "execute_result"
    }
   ],
   "source": [
    "import pandas as pd\n",
    "from talib.abstract import MACD, RSI, CCI, DX\n",
    "\n",
    "df = pd.read_csv('data/dataset.csv')\n",
    "technical_indicator_list = ['macd',\n",
    "                            'macd_signal',\n",
    "                            'macd_hist',\n",
    "                            'rsi',\n",
    "                            'cci',\n",
    "                            'dx'\n",
    "                            ]\n",
    "\n",
    "\n",
    "def add_technical_indicator(df, tech_indicator_list):\n",
    "  final_df = pd.DataFrame()\n",
    "  for i in df.tic.unique():\n",
    "    tic_df = df[df.tic == i].copy()\n",
    "    tic_df['rsi'] = RSI(tic_df['close'], timeperiod=14)\n",
    "    tic_df['macd'], tic_df['macd_signal'], tic_df['macd_hist'] = MACD(\n",
    "      tic_df['close'], fastperiod=12,\n",
    "      slowperiod=26, signalperiod=9)\n",
    "    tic_df['cci'] = CCI(tic_df['high'], tic_df['low'], tic_df['close'],\n",
    "                        timeperiod=14)\n",
    "    tic_df['dx'] = DX(tic_df['high'], tic_df['low'], tic_df['close'],\n",
    "                      timeperiod=14)\n",
    "    final_df = pd.concat([final_df, tic_df])\n",
    "  return final_df\n",
    "\n",
    "\n",
    "processed_df = add_technical_indicator(df, technical_indicator_list)\n",
    "processed_df.index = pd.to_datetime(processed_df.time)\n",
    "processed_df.drop('time', inplace=True, axis=1)\n",
    "processed_df.tail()"
   ],
   "metadata": {
    "collapsed": false
   }
  }
 ],
 "metadata": {
  "kernelspec": {
   "display_name": "Python 3",
   "language": "python",
   "name": "python3"
  },
  "language_info": {
   "codemirror_mode": {
    "name": "ipython",
    "version": 2
   },
   "file_extension": ".py",
   "mimetype": "text/x-python",
   "name": "python",
   "nbconvert_exporter": "python",
   "pygments_lexer": "ipython2",
   "version": "2.7.6"
  }
 },
 "nbformat": 4,
 "nbformat_minor": 0
}
